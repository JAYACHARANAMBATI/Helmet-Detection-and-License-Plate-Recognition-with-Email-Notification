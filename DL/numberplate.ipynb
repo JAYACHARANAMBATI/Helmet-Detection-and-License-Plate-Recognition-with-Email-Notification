{
 "cells": [
  {
   "cell_type": "code",
   "execution_count": 15,
   "metadata": {},
   "outputs": [
    {
     "name": "stdout",
     "output_type": "stream",
     "text": [
      "Requirement already satisfied: roboflow in c:\\users\\91964\\appdata\\local\\programs\\python\\python311\\lib\\site-packages (1.1.36)\n",
      "Requirement already satisfied: certifi in c:\\users\\91964\\appdata\\local\\programs\\python\\python311\\lib\\site-packages (from roboflow) (2024.2.2)\n",
      "Requirement already satisfied: chardet==4.0.0 in c:\\users\\91964\\appdata\\local\\programs\\python\\python311\\lib\\site-packages (from roboflow) (4.0.0)\n",
      "Requirement already satisfied: idna==3.7 in c:\\users\\91964\\appdata\\local\\programs\\python\\python311\\lib\\site-packages (from roboflow) (3.7)\n",
      "Requirement already satisfied: cycler in c:\\users\\91964\\appdata\\local\\programs\\python\\python311\\lib\\site-packages (from roboflow) (0.12.1)\n",
      "Requirement already satisfied: kiwisolver>=1.3.1 in c:\\users\\91964\\appdata\\local\\programs\\python\\python311\\lib\\site-packages (from roboflow) (1.4.5)\n",
      "Requirement already satisfied: matplotlib in c:\\users\\91964\\appdata\\local\\programs\\python\\python311\\lib\\site-packages (from roboflow) (3.8.2)\n",
      "Requirement already satisfied: numpy>=1.18.5 in c:\\users\\91964\\appdata\\local\\programs\\python\\python311\\lib\\site-packages (from roboflow) (1.26.2)\n",
      "Requirement already satisfied: opencv-python-headless==4.10.0.84 in c:\\users\\91964\\appdata\\local\\programs\\python\\python311\\lib\\site-packages (from roboflow) (4.10.0.84)\n",
      "Requirement already satisfied: Pillow>=7.1.2 in c:\\users\\91964\\appdata\\local\\programs\\python\\python311\\lib\\site-packages (from roboflow) (10.2.0)\n",
      "Requirement already satisfied: python-dateutil in c:\\users\\91964\\appdata\\local\\programs\\python\\python311\\lib\\site-packages (from roboflow) (2.8.2)\n",
      "Requirement already satisfied: python-dotenv in c:\\users\\91964\\appdata\\local\\programs\\python\\python311\\lib\\site-packages (from roboflow) (1.0.1)\n",
      "Requirement already satisfied: requests in c:\\users\\91964\\appdata\\local\\programs\\python\\python311\\lib\\site-packages (from roboflow) (2.31.0)\n",
      "Requirement already satisfied: six in c:\\users\\91964\\appdata\\local\\programs\\python\\python311\\lib\\site-packages (from roboflow) (1.16.0)\n",
      "Requirement already satisfied: urllib3>=1.26.6 in c:\\users\\91964\\appdata\\local\\programs\\python\\python311\\lib\\site-packages (from roboflow) (2.2.0)\n",
      "Requirement already satisfied: tqdm>=4.41.0 in c:\\users\\91964\\appdata\\local\\programs\\python\\python311\\lib\\site-packages (from roboflow) (4.66.2)\n",
      "Requirement already satisfied: PyYAML>=5.3.1 in c:\\users\\91964\\appdata\\local\\programs\\python\\python311\\lib\\site-packages (from roboflow) (6.0.1)\n",
      "Requirement already satisfied: requests-toolbelt in c:\\users\\91964\\appdata\\local\\programs\\python\\python311\\lib\\site-packages (from roboflow) (1.0.0)\n",
      "Requirement already satisfied: filetype in c:\\users\\91964\\appdata\\local\\programs\\python\\python311\\lib\\site-packages (from roboflow) (1.2.0)\n",
      "Requirement already satisfied: colorama in c:\\users\\91964\\appdata\\roaming\\python\\python311\\site-packages (from tqdm>=4.41.0->roboflow) (0.4.6)\n",
      "Requirement already satisfied: contourpy>=1.0.1 in c:\\users\\91964\\appdata\\local\\programs\\python\\python311\\lib\\site-packages (from matplotlib->roboflow) (1.2.0)\n",
      "Requirement already satisfied: fonttools>=4.22.0 in c:\\users\\91964\\appdata\\local\\programs\\python\\python311\\lib\\site-packages (from matplotlib->roboflow) (4.48.1)\n",
      "Requirement already satisfied: packaging>=20.0 in c:\\users\\91964\\appdata\\local\\programs\\python\\python311\\lib\\site-packages (from matplotlib->roboflow) (23.2)\n",
      "Requirement already satisfied: pyparsing>=2.3.1 in c:\\users\\91964\\appdata\\local\\programs\\python\\python311\\lib\\site-packages (from matplotlib->roboflow) (3.1.1)\n",
      "Requirement already satisfied: charset-normalizer<4,>=2 in c:\\users\\91964\\appdata\\local\\programs\\python\\python311\\lib\\site-packages (from requests->roboflow) (3.3.2)\n",
      "loading Roboflow workspace...\n",
      "loading Roboflow project...\n",
      "Dependency ultralytics==8.0.196 is required but found version=8.3.27, to fix: `pip install ultralytics==8.0.196`\n"
     ]
    },
    {
     "name": "stderr",
     "output_type": "stream",
     "text": [
      "Downloading Dataset Version Zip in Vehicle-Registration-Plates-2 to yolov8:: 100%|██████████| 733501/733501 [01:16<00:00, 9579.95it/s] "
     ]
    },
    {
     "name": "stdout",
     "output_type": "stream",
     "text": [
      "\n"
     ]
    },
    {
     "name": "stderr",
     "output_type": "stream",
     "text": [
      "\n",
      "Extracting Dataset Version Zip to Vehicle-Registration-Plates-2 in yolov8:: 100%|██████████| 42362/42362 [00:33<00:00, 1270.84it/s]\n"
     ]
    }
   ],
   "source": [
    "!pip install roboflow\n",
    "\n",
    "from roboflow import Roboflow\n",
    "rf = Roboflow(api_key=\"4REFjPGpRLUMt5gylhr6\")\n",
    "project = rf.workspace(\"augmented-startups\").project(\"vehicle-registration-plates-trudk\")\n",
    "version = project.version(2)\n",
    "dataset = version.download(\"yolov8\")\n",
    "                "
   ]
  },
  {
   "cell_type": "code",
   "execution_count": 16,
   "metadata": {},
   "outputs": [],
   "source": [
    "from ultralytics import YOLO\n",
    "\n",
    "# Load a model\n",
    "model = YOLO(\"yolov8n.pt\")\n"
   ]
  },
  {
   "cell_type": "code",
   "execution_count": 17,
   "metadata": {},
   "outputs": [
    {
     "name": "stdout",
     "output_type": "stream",
     "text": [
      "New https://pypi.org/project/ultralytics/8.3.28 available  Update with 'pip install -U ultralytics'\n",
      "Ultralytics 8.3.27  Python-3.11.4 torch-2.4.1+cpu CPU (12th Gen Intel Core(TM) i5-12450H)\n",
      "\u001b[34m\u001b[1mengine\\trainer: \u001b[0mtask=detect, mode=train, model=yolov8n.pt, data=C:\\Users\\91964\\OneDrive\\Desktop\\DL\\Vehicle-Registration-Plates-2\\data.yaml, epochs=5, time=None, patience=100, batch=16, imgsz=640, save=True, save_period=-1, cache=False, device=cpu, workers=8, project=None, name=train22, exist_ok=False, pretrained=True, optimizer=auto, verbose=True, seed=0, deterministic=True, single_cls=False, rect=False, cos_lr=False, close_mosaic=10, resume=False, amp=True, fraction=1.0, profile=False, freeze=None, multi_scale=False, overlap_mask=True, mask_ratio=4, dropout=0.0, val=True, split=val, save_json=False, save_hybrid=False, conf=None, iou=0.7, max_det=300, half=False, dnn=False, plots=True, source=None, vid_stride=1, stream_buffer=False, visualize=False, augment=False, agnostic_nms=False, classes=None, retina_masks=False, embed=None, show=False, save_frames=False, save_txt=False, save_conf=False, save_crop=False, show_labels=True, show_conf=True, show_boxes=True, line_width=None, format=torchscript, keras=False, optimize=False, int8=False, dynamic=False, simplify=True, opset=None, workspace=4, nms=False, lr0=0.01, lrf=0.01, momentum=0.937, weight_decay=0.0005, warmup_epochs=3.0, warmup_momentum=0.8, warmup_bias_lr=0.1, box=7.5, cls=0.5, dfl=1.5, pose=12.0, kobj=1.0, label_smoothing=0.0, nbs=64, hsv_h=0.015, hsv_s=0.7, hsv_v=0.4, degrees=0.0, translate=0.1, scale=0.5, shear=0.0, perspective=0.0, flipud=0.0, fliplr=0.5, bgr=0.0, mosaic=1.0, mixup=0.0, copy_paste=0.0, copy_paste_mode=flip, auto_augment=randaugment, erasing=0.4, crop_fraction=1.0, cfg=None, tracker=botsort.yaml, save_dir=runs\\detect\\train22\n",
      "Overriding model.yaml nc=80 with nc=1\n",
      "\n",
      "                   from  n    params  module                                       arguments                     \n",
      "  0                  -1  1       464  ultralytics.nn.modules.conv.Conv             [3, 16, 3, 2]                 \n",
      "  1                  -1  1      4672  ultralytics.nn.modules.conv.Conv             [16, 32, 3, 2]                \n",
      "  2                  -1  1      7360  ultralytics.nn.modules.block.C2f             [32, 32, 1, True]             \n",
      "  3                  -1  1     18560  ultralytics.nn.modules.conv.Conv             [32, 64, 3, 2]                \n",
      "  4                  -1  2     49664  ultralytics.nn.modules.block.C2f             [64, 64, 2, True]             \n",
      "  5                  -1  1     73984  ultralytics.nn.modules.conv.Conv             [64, 128, 3, 2]               \n",
      "  6                  -1  2    197632  ultralytics.nn.modules.block.C2f             [128, 128, 2, True]           \n",
      "  7                  -1  1    295424  ultralytics.nn.modules.conv.Conv             [128, 256, 3, 2]              \n",
      "  8                  -1  1    460288  ultralytics.nn.modules.block.C2f             [256, 256, 1, True]           \n",
      "  9                  -1  1    164608  ultralytics.nn.modules.block.SPPF            [256, 256, 5]                 \n",
      " 10                  -1  1         0  torch.nn.modules.upsampling.Upsample         [None, 2, 'nearest']          \n",
      " 11             [-1, 6]  1         0  ultralytics.nn.modules.conv.Concat           [1]                           \n",
      " 12                  -1  1    148224  ultralytics.nn.modules.block.C2f             [384, 128, 1]                 \n",
      " 13                  -1  1         0  torch.nn.modules.upsampling.Upsample         [None, 2, 'nearest']          \n",
      " 14             [-1, 4]  1         0  ultralytics.nn.modules.conv.Concat           [1]                           \n",
      " 15                  -1  1     37248  ultralytics.nn.modules.block.C2f             [192, 64, 1]                  \n",
      " 16                  -1  1     36992  ultralytics.nn.modules.conv.Conv             [64, 64, 3, 2]                \n",
      " 17            [-1, 12]  1         0  ultralytics.nn.modules.conv.Concat           [1]                           \n",
      " 18                  -1  1    123648  ultralytics.nn.modules.block.C2f             [192, 128, 1]                 \n",
      " 19                  -1  1    147712  ultralytics.nn.modules.conv.Conv             [128, 128, 3, 2]              \n",
      " 20             [-1, 9]  1         0  ultralytics.nn.modules.conv.Concat           [1]                           \n",
      " 21                  -1  1    493056  ultralytics.nn.modules.block.C2f             [384, 256, 1]                 \n",
      " 22        [15, 18, 21]  1    751507  ultralytics.nn.modules.head.Detect           [1, [64, 128, 256]]           \n",
      "Model summary: 225 layers, 3,011,043 parameters, 3,011,027 gradients, 8.2 GFLOPs\n",
      "\n",
      "Transferred 319/355 items from pretrained weights\n",
      "\u001b[34m\u001b[1mTensorBoard: \u001b[0mStart with 'tensorboard --logdir runs\\detect\\train22', view at http://localhost:6006/\n",
      "Freezing layer 'model.22.dfl.conv.weight'\n"
     ]
    },
    {
     "name": "stderr",
     "output_type": "stream",
     "text": [
      "\u001b[34m\u001b[1mtrain: \u001b[0mScanning C:\\Users\\91964\\OneDrive\\Desktop\\DL\\Vehicle-Registration-Plates-2\\train\\labels... 18528 images, 18 backgrounds, 0 corrupt: 100%|██████████| 18528/18528 [01:11<00:00, 257.61it/s]\n"
     ]
    },
    {
     "name": "stdout",
     "output_type": "stream",
     "text": [
      "\u001b[34m\u001b[1mtrain: \u001b[0mNew cache created: C:\\Users\\91964\\OneDrive\\Desktop\\DL\\Vehicle-Registration-Plates-2\\train\\labels.cache\n"
     ]
    },
    {
     "name": "stderr",
     "output_type": "stream",
     "text": [
      "\u001b[34m\u001b[1mval: \u001b[0mScanning C:\\Users\\91964\\OneDrive\\Desktop\\DL\\Vehicle-Registration-Plates-2\\valid\\labels... 1765 images, 0 backgrounds, 0 corrupt: 100%|██████████| 1765/1765 [00:07<00:00, 246.03it/s]\n"
     ]
    },
    {
     "name": "stdout",
     "output_type": "stream",
     "text": [
      "\u001b[34m\u001b[1mval: \u001b[0mNew cache created: C:\\Users\\91964\\OneDrive\\Desktop\\DL\\Vehicle-Registration-Plates-2\\valid\\labels.cache\n",
      "Plotting labels to runs\\detect\\train22\\labels.jpg... \n",
      "\u001b[34m\u001b[1moptimizer:\u001b[0m 'optimizer=auto' found, ignoring 'lr0=0.01' and 'momentum=0.937' and determining best 'optimizer', 'lr0' and 'momentum' automatically... \n",
      "\u001b[34m\u001b[1moptimizer:\u001b[0m AdamW(lr=0.002, momentum=0.9) with parameter groups 57 weight(decay=0.0), 64 weight(decay=0.0005), 63 bias(decay=0.0)\n",
      "\u001b[34m\u001b[1mTensorBoard: \u001b[0mmodel graph visualization added \n",
      "Image sizes 640 train, 640 val\n",
      "Using 0 dataloader workers\n",
      "Logging results to \u001b[1mruns\\detect\\train22\u001b[0m\n",
      "Starting training for 5 epochs...\n",
      "\n",
      "      Epoch    GPU_mem   box_loss   cls_loss   dfl_loss  Instances       Size\n"
     ]
    },
    {
     "name": "stderr",
     "output_type": "stream",
     "text": [
      "        1/5         0G      1.241      1.168      1.178         31        640: 100%|██████████| 1158/1158 [4:24:43<00:00, 13.72s/it]     \n",
      "                 Class     Images  Instances      Box(P          R      mAP50  mAP50-95): 100%|██████████| 56/56 [06:06<00:00,  6.55s/it]"
     ]
    },
    {
     "name": "stdout",
     "output_type": "stream",
     "text": [
      "                   all       1765       1840      0.967      0.937      0.956       0.61\n"
     ]
    },
    {
     "name": "stderr",
     "output_type": "stream",
     "text": [
      "\n"
     ]
    },
    {
     "name": "stdout",
     "output_type": "stream",
     "text": [
      "\n",
      "      Epoch    GPU_mem   box_loss   cls_loss   dfl_loss  Instances       Size\n"
     ]
    },
    {
     "name": "stderr",
     "output_type": "stream",
     "text": [
      "        2/5         0G      1.207     0.6798      1.178         30        640: 100%|██████████| 1158/1158 [2:51:14<00:00,  8.87s/it] \n",
      "                 Class     Images  Instances      Box(P          R      mAP50  mAP50-95): 100%|██████████| 56/56 [06:09<00:00,  6.60s/it]"
     ]
    },
    {
     "name": "stdout",
     "output_type": "stream",
     "text": [
      "                   all       1765       1840      0.968      0.933      0.971      0.657\n"
     ]
    },
    {
     "name": "stderr",
     "output_type": "stream",
     "text": [
      "\n"
     ]
    },
    {
     "name": "stdout",
     "output_type": "stream",
     "text": [
      "\n",
      "      Epoch    GPU_mem   box_loss   cls_loss   dfl_loss  Instances       Size\n"
     ]
    },
    {
     "name": "stderr",
     "output_type": "stream",
     "text": [
      "        3/5         0G      1.178     0.6168      1.158         25        640: 100%|██████████| 1158/1158 [2:12:36<00:00,  6.87s/it] \n",
      "                 Class     Images  Instances      Box(P          R      mAP50  mAP50-95): 100%|██████████| 56/56 [02:04<00:00,  2.23s/it]"
     ]
    },
    {
     "name": "stdout",
     "output_type": "stream",
     "text": [
      "                   all       1765       1840      0.979      0.941      0.972      0.656\n"
     ]
    },
    {
     "name": "stderr",
     "output_type": "stream",
     "text": [
      "\n"
     ]
    },
    {
     "name": "stdout",
     "output_type": "stream",
     "text": [
      "\n",
      "      Epoch    GPU_mem   box_loss   cls_loss   dfl_loss  Instances       Size\n"
     ]
    },
    {
     "name": "stderr",
     "output_type": "stream",
     "text": [
      "        4/5         0G      1.145      0.566       1.14         30        640: 100%|██████████| 1158/1158 [1:04:51<00:00,  3.36s/it]\n",
      "                 Class     Images  Instances      Box(P          R      mAP50  mAP50-95): 100%|██████████| 56/56 [02:12<00:00,  2.37s/it]"
     ]
    },
    {
     "name": "stdout",
     "output_type": "stream",
     "text": [
      "                   all       1765       1840      0.979      0.944      0.974      0.668\n"
     ]
    },
    {
     "name": "stderr",
     "output_type": "stream",
     "text": [
      "\n"
     ]
    },
    {
     "name": "stdout",
     "output_type": "stream",
     "text": [
      "\n",
      "      Epoch    GPU_mem   box_loss   cls_loss   dfl_loss  Instances       Size\n"
     ]
    },
    {
     "name": "stderr",
     "output_type": "stream",
     "text": [
      "        5/5         0G        1.1     0.5067      1.118         25        640: 100%|██████████| 1158/1158 [2:18:18<00:00,  7.17s/it] \n",
      "                 Class     Images  Instances      Box(P          R      mAP50  mAP50-95): 100%|██████████| 56/56 [06:05<00:00,  6.52s/it]"
     ]
    },
    {
     "name": "stdout",
     "output_type": "stream",
     "text": [
      "                   all       1765       1840      0.981      0.957      0.982      0.697\n"
     ]
    },
    {
     "name": "stderr",
     "output_type": "stream",
     "text": [
      "\n"
     ]
    },
    {
     "name": "stdout",
     "output_type": "stream",
     "text": [
      "\n",
      "5 epochs completed in 13.243 hours.\n",
      "Optimizer stripped from runs\\detect\\train22\\weights\\last.pt, 6.2MB\n",
      "Optimizer stripped from runs\\detect\\train22\\weights\\best.pt, 6.2MB\n",
      "\n",
      "Validating runs\\detect\\train22\\weights\\best.pt...\n",
      "Ultralytics 8.3.27  Python-3.11.4 torch-2.4.1+cpu CPU (12th Gen Intel Core(TM) i5-12450H)\n",
      "Model summary (fused): 168 layers, 3,005,843 parameters, 0 gradients, 8.1 GFLOPs\n"
     ]
    },
    {
     "name": "stderr",
     "output_type": "stream",
     "text": [
      "                 Class     Images  Instances      Box(P          R      mAP50  mAP50-95): 100%|██████████| 56/56 [05:33<00:00,  5.96s/it]\n"
     ]
    },
    {
     "name": "stdout",
     "output_type": "stream",
     "text": [
      "                   all       1765       1840      0.981      0.957      0.982      0.697\n",
      "Speed: 4.6ms preprocess, 169.3ms inference, 0.0ms loss, 0.8ms postprocess per image\n",
      "Results saved to \u001b[1mruns\\detect\\train22\u001b[0m\n"
     ]
    }
   ],
   "source": [
    "train_results = model.train(\n",
    "    data=r\"C:\\Users\\91964\\OneDrive\\Desktop\\DL\\Vehicle-Registration-Plates-2\\data.yaml\",  \n",
    "    epochs=5,  \n",
    "    imgsz=640,  \n",
    "    device=\"cpu\"  \n",
    ")        "
   ]
  },
  {
   "cell_type": "code",
   "execution_count": 1,
   "metadata": {},
   "outputs": [
    {
     "name": "stdout",
     "output_type": "stream",
     "text": [
      "\n",
      "0: 640x640 1 License_Plate, 134.7ms\n",
      "Speed: 3.5ms preprocess, 134.7ms inference, 0.0ms postprocess per image at shape (1, 3, 640, 640)\n"
     ]
    }
   ],
   "source": [
    "from ultralytics import YOLO\n",
    "import cv2\n",
    "\n",
    "# Load the trained model\n",
    "model = YOLO(r\"C:\\Users\\91964\\OneDrive\\Desktop\\DL\\runs\\detect\\train22\\weights\\best.pt\")\n",
    "\n",
    "# Input image path\n",
    "input_image_path = r\"C:\\Users\\91964\\OneDrive\\Desktop\\DL\\bick.jpeg\"\n",
    "image = cv2.imread(input_image_path)\n",
    "\n",
    "# Run YOLO detection on the image\n",
    "results = model(image)\n",
    "\n",
    "# Get the annotated image\n",
    "annotated_image = results[0].plot()  # Annotate image with detections\n",
    "\n",
    "\n",
    "\n",
    "# Display the annotated image\n",
    "cv2.imshow(\"Detected Image\", annotated_image)\n",
    "cv2.waitKey(0)  # Wait for a key press to close the window\n",
    "cv2.destroyAllWindows()\n"
   ]
  },
  {
   "cell_type": "code",
   "execution_count": 1,
   "metadata": {},
   "outputs": [
    {
     "name": "stdout",
     "output_type": "stream",
     "text": [
      "\n",
      "0: 640x608 1 License_Plate, 171.5ms\n",
      "Speed: 9.8ms preprocess, 171.5ms inference, 6.8ms postprocess per image at shape (1, 3, 640, 608)\n",
      "Detected region saved successfully as 'C:\\Users\\91964\\OneDrive\\Desktop\\DL\\Detected_Plates\\detected_region.jpg'.\n"
     ]
    }
   ],
   "source": [
    "from ultralytics import YOLO\n",
    "import cv2\n",
    "import os\n",
    "\n",
    "# Load the trained model\n",
    "model = YOLO(r\"C:\\Users\\91964\\OneDrive\\Desktop\\DL\\runs\\detect\\train22\\weights\\best.pt\")\n",
    "\n",
    "# Input image path\n",
    "input_image_path = r\"C:\\Users\\91964\\OneDrive\\Desktop\\DL\\no_helmet.jpg\"\n",
    "image = cv2.imread(input_image_path)\n",
    "\n",
    "# Output folder path\n",
    "output_folder = r\"C:\\Users\\91964\\OneDrive\\Desktop\\DL\\Detected_Plates\"\n",
    "\n",
    "# Create the output folder if it doesn't exist\n",
    "if not os.path.exists(output_folder):\n",
    "    os.makedirs(output_folder)\n",
    "\n",
    "# Run YOLO detection on the image\n",
    "results = model(image)\n",
    "\n",
    "# Check if any detections are returned\n",
    "if results and results[0].boxes:\n",
    "    # Get the first detected bounding box\n",
    "    box = results[0].boxes[0]  # Only the first detected box\n",
    "\n",
    "    # Extract bounding box coordinates (xyxy format) and convert to integers\n",
    "    x1, y1, x2, y2 = map(int, box.xyxy[0])\n",
    "\n",
    "    # Crop the detected area from the image\n",
    "    cropped_image = image[y1:y2, x1:x2]\n",
    "\n",
    "    # Define the output path for the cropped image\n",
    "    output_path = os.path.join(output_folder, \"detected_region.jpg\")\n",
    "\n",
    "    # Save the cropped image\n",
    "    cv2.imwrite(output_path, cropped_image)\n",
    "\n",
    "    print(f\"Detected region saved successfully as '{output_path}'.\")\n",
    "else:\n",
    "    print(\"No detections were found in the image.\")\n"
   ]
  },
  {
   "cell_type": "code",
   "execution_count": 3,
   "metadata": {},
   "outputs": [
    {
     "name": "stderr",
     "output_type": "stream",
     "text": [
      "Neither CUDA nor MPS are available - defaulting to CPU. Note: This module is much faster with a GPU.\n"
     ]
    },
    {
     "name": "stdout",
     "output_type": "stream",
     "text": [
      "\n",
      "0: 640x288 2 License_Plates, 50.5ms\n",
      "Speed: 6.9ms preprocess, 50.5ms inference, 0.0ms postprocess per image at shape (1, 3, 640, 288)\n",
      "Text from plate_0.jpg:\n",
      "Detected Text: TnTT\n",
      "Detected Text: 60313\n",
      "Text from plate_1.jpg:\n",
      "Detected Text: PoLice\n",
      "Detected plates saved and text extracted successfully from 'C:\\Users\\91964\\OneDrive\\Desktop\\DL\\Detected_Plates' folder.\n"
     ]
    }
   ],
   "source": [
    "from ultralytics import YOLO\n",
    "import cv2\n",
    "import os\n",
    "import easyocr\n",
    "\n",
    "# Initialize EasyOCR reader (specify the language, e.g., 'en' for English)\n",
    "reader = easyocr.Reader(['en'])\n",
    "\n",
    "# Load the trained YOLO model\n",
    "model = YOLO(r\"C:\\Users\\91964\\OneDrive\\Desktop\\DL\\runs\\detect\\train22\\weights\\best.pt\")\n",
    "\n",
    "# Input image path\n",
    "input_image_path = r\"C:\\Users\\91964\\OneDrive\\Desktop\\DL\\1.webp\"\n",
    "image = cv2.imread(input_image_path)\n",
    "\n",
    "# Output folder path for detected plates\n",
    "output_folder = r\"C:\\Users\\91964\\OneDrive\\Desktop\\DL\\Detected_Plates\"\n",
    "\n",
    "# Create the output folder if it doesn't exist\n",
    "if not os.path.exists(output_folder):\n",
    "    os.makedirs(output_folder)\n",
    "\n",
    "# Run YOLO detection on the image\n",
    "results = model(image)\n",
    "\n",
    "# Check if any results are returned\n",
    "if results and results[0].boxes:\n",
    "    # Loop through each detected bounding box\n",
    "    for i, box in enumerate(results[0].boxes):\n",
    "        # Extract bounding box coordinates (xyxy format) and convert to integers\n",
    "        x1, y1, x2, y2 = map(int, box.xyxy[0])\n",
    "        \n",
    "        # Crop the detected area from the image\n",
    "        cropped_plate = image[y1:y2, x1:x2]\n",
    "        \n",
    "        # Define the output path for each cropped plate\n",
    "        output_path = os.path.join(output_folder, f\"plate_{i}.jpg\")\n",
    "        \n",
    "        # Save the cropped image\n",
    "        cv2.imwrite(output_path, cropped_plate)\n",
    "        \n",
    "        # Use EasyOCR to read text from the cropped plate image\n",
    "        text_results = reader.readtext(cropped_plate)\n",
    "        \n",
    "        # Display extracted text data for each detected plate\n",
    "        print(f\"Text from plate_{i}.jpg:\")\n",
    "        for text in text_results:\n",
    "            print(\"Detected Text:\", text[1])  # text[1] contains the recognized text string\n",
    "            \n",
    "    print(f\"Detected plates saved and text extracted successfully from '{output_folder}' folder.\")\n",
    "else:\n",
    "    print(\"No detections were found in the image.\")\n"
   ]
  },
  {
   "cell_type": "code",
   "execution_count": 6,
   "metadata": {},
   "outputs": [
    {
     "name": "stderr",
     "output_type": "stream",
     "text": [
      "Neither CUDA nor MPS are available - defaulting to CPU. Note: This module is much faster with a GPU.\n"
     ]
    },
    {
     "name": "stdout",
     "output_type": "stream",
     "text": [
      "\n",
      "0: 384x640 3 License_Plates, 86.7ms\n",
      "Speed: 0.0ms preprocess, 86.7ms inference, 0.0ms postprocess per image at shape (1, 3, 384, 640)\n",
      "Text from plate_0.jpg:\n",
      "Text from plate_1.jpg:\n",
      "Text from plate_2.jpg:\n",
      "Detected plates saved and license plate numbers extracted successfully from 'C:\\Users\\91964\\OneDrive\\Desktop\\DL\\Detected_Plates' folder.\n"
     ]
    }
   ],
   "source": [
    "from ultralytics import YOLO\n",
    "import cv2\n",
    "import os\n",
    "import easyocr\n",
    "import re\n",
    "\n",
    "# Initialize EasyOCR reader (specify the language, e.g., 'en' for English)\n",
    "reader = easyocr.Reader(['en'])\n",
    "\n",
    "# Load the trained YOLO model\n",
    "model = YOLO(r\"C:\\Users\\91964\\OneDrive\\Desktop\\DL\\runs\\detect\\train22\\weights\\best.pt\")\n",
    "\n",
    "# Input image path\n",
    "input_image_path = r\"C:\\Users\\91964\\OneDrive\\Desktop\\DL\\2.jpeg\"\n",
    "image = cv2.imread(input_image_path)\n",
    "\n",
    "# Output folder path for detected plates\n",
    "output_folder = r\"C:\\Users\\91964\\OneDrive\\Desktop\\DL\\Detected_Plates\"\n",
    "\n",
    "# Create the output folder if it doesn't exist\n",
    "if not os.path.exists(output_folder):\n",
    "    os.makedirs(output_folder)\n",
    "\n",
    "# Define a regex pattern for license plate numbers (e.g., \"AP16BC9994\")\n",
    "plate_pattern = re.compile(r'[A-Z]{2}[0-9]{2}[A-Z]{1,2}[0-9]{4}')\n",
    "\n",
    "# Run YOLO detection on the image\n",
    "results = model(image)\n",
    "\n",
    "# Check if any results are returned\n",
    "if results and results[0].boxes:\n",
    "    # Loop through each detected bounding box\n",
    "    for i, box in enumerate(results[0].boxes):\n",
    "        # Extract bounding box coordinates (xyxy format) and convert to integers\n",
    "        x1, y1, x2, y2 = map(int, box.xyxy[0])\n",
    "        \n",
    "        # Crop the detected area from the image\n",
    "        cropped_plate = image[y1:y2, x1:x2]\n",
    "        \n",
    "        # Define the output path for each cropped plate\n",
    "        output_path = os.path.join(output_folder, f\"plate_{i}.jpg\")\n",
    "        \n",
    "        # Save the cropped image\n",
    "        cv2.imwrite(output_path, cropped_plate)\n",
    "        \n",
    "        # Use EasyOCR to read text from the cropped plate image\n",
    "        text_results = reader.readtext(cropped_plate)\n",
    "        \n",
    "        # Filter and display only the license plate number\n",
    "        print(f\"Text from plate_{i}.jpg:\")\n",
    "        for text in text_results:\n",
    "            detected_text = text[1]  # text[1] contains the recognized text string\n",
    "            match = plate_pattern.search(detected_text)\n",
    "            if match:\n",
    "                print(\"Detected License Plate Number:\", match.group())\n",
    "                \n",
    "    print(f\"Detected plates saved and license plate numbers extracted successfully from '{output_folder}' folder.\")\n",
    "else:\n",
    "    print(\"No detections were found in the image.\")\n"
   ]
  }
 ],
 "metadata": {
  "kernelspec": {
   "display_name": "Python 3",
   "language": "python",
   "name": "python3"
  },
  "language_info": {
   "codemirror_mode": {
    "name": "ipython",
    "version": 3
   },
   "file_extension": ".py",
   "mimetype": "text/x-python",
   "name": "python",
   "nbconvert_exporter": "python",
   "pygments_lexer": "ipython3",
   "version": "3.11.4"
  }
 },
 "nbformat": 4,
 "nbformat_minor": 2
}
